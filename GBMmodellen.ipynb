{
 "cells": [
  {
   "attachments": {},
   "cell_type": "markdown",
   "metadata": {},
   "source": [
    "### Trainen van de best presterende machine learning modellen\n",
    "\n",
    "In het Protoype.ipynb bestand zijn de drie datasetsoorten getraind door een AutoML. Verschillende modellen presteerde hier boven de kans van 0,1633 (8/49). Voor iedere dataset soort was het gradient boosting model het best presterende model. In dit notebook wordt daarom iedere datasetsoort in een gradient boosting model getraind. Door naar de nauwkeurigheid en begrijpelijkheid van het model te kijken, kan bepaald worden of de modellen interpreteerbaar zijn."
   ]
  },
  {
   "attachments": {},
   "cell_type": "markdown",
   "metadata": {},
   "source": [
    "**Trainen van het Gradient Boosting model voor gestructureerde data**"
   ]
  },
  {
   "cell_type": "code",
   "execution_count": 77,
   "metadata": {},
   "outputs": [],
   "source": [
    "#importeren van de libraries\n",
    "from sklearn.ensemble import GradientBoostingClassifier\n",
    "from sklearn.model_selection import train_test_split\n",
    "from sklearn.metrics import accuracy_score, f1_score\n",
    "import pandas as pd"
   ]
  },
  {
   "cell_type": "code",
   "execution_count": 78,
   "metadata": {},
   "outputs": [],
   "source": [
    "#ophalen van de gestructureerde dataset\n",
    "gezichtendata_struc = pd.read_csv('gezichtendata.csv', sep=';')"
   ]
  },
  {
   "cell_type": "code",
   "execution_count": 79,
   "metadata": {},
   "outputs": [],
   "source": [
    "#definieren van de gradient boosting classifier\n",
    "gbc = GradientBoostingClassifier(n_estimators=100, learning_rate=0.1, max_depth=3)\n",
    "\n",
    "#waarde geven aan de variabele (x) en de voorspelwaarde (y)\n",
    "x = gezichtendata_model[['geslacht', 'leeftijd']].values\n",
    "y = gezichtendata_model['zwanger'].values\n",
    "\n",
    "#opsplitsen van de test en trainingsdata\n",
    "x_train, x_test, y_train, y_test = train_test_split(X, y, test_size = 0.3)\n",
    "\n",
    "#model trainen op de trainingsdata\n",
    "gbc.fit(x_train, y_train)\n",
    "\n",
    "#Voorspellings waarde van de testdata\n",
    "y_pred = gbc.predict(x_test)"
   ]
  },
  {
   "cell_type": "code",
   "execution_count": 80,
   "metadata": {},
   "outputs": [
    {
     "name": "stdout",
     "output_type": "stream",
     "text": [
      "Accuracy: 0.9333333333333333\n",
      "F1-score: 0.9655172413793104\n"
     ]
    }
   ],
   "source": [
    "#berekenen van de prestatie waarden nauwkeurigheid en F1-score\n",
    "accuracy = accuracy_score(y_test, y_pred)\n",
    "f1 = f1_score(y_test, y_pred, average='weighted')\n",
    "\n",
    "print(\"Accuracy:\", accuracy)\n",
    "print(\"F1-score:\", f1)"
   ]
  },
  {
   "attachments": {},
   "cell_type": "markdown",
   "metadata": {},
   "source": [
    "De nauwkeurigheid van 0,93 en de F1-score van 0,97 laten zien dat het GBM goed presteert op de gestructureerde data. Het eerste doel van de mate van interpreteerbaarheid is daarmee behaald. De begrijpelijkheid van het model, het tweede doel van de mate van interpreteerbaarheid, wordt niet behaald. De resultaten van het model zijn goed te interpreteren doordat je zelf de voorspelling waarden zoals nauwkeurigheid en F1-score kan bepalen. Echter is het model zelf niet interpreteerbaar doordat de redenatie van model niet terug te zien is. Dit maakt dat ook het derde doel van de mate van interpreteerbaarheid, efficiëntie, niet behaald wordt.    "
   ]
  },
  {
   "attachments": {},
   "cell_type": "markdown",
   "metadata": {},
   "source": [
    "**Trainen van het Gradient Boosting model voor ongestructureerde data**"
   ]
  },
  {
   "cell_type": "code",
   "execution_count": 81,
   "metadata": {},
   "outputs": [],
   "source": [
    "#ophalen van de ongestructureerde dataset\n",
    "gezichtendata_ongestruc = pd.read_csv('afbeeldingdata.csv', sep=';')"
   ]
  },
  {
   "cell_type": "code",
   "execution_count": 82,
   "metadata": {},
   "outputs": [],
   "source": [
    "\n",
    "#definieren van de gradient boosting classifier\n",
    "gbc = GradientBoostingClassifier(n_estimators=100, learning_rate=0.1, max_depth=3)\n",
    "\n",
    "#waarde geven aan de variabele (x) en de voorspelwaarde (y)\n",
    "x = gezichtendata_ongestruc[['breedte', 'lengte', 'grootte', 'pixeldichtheid']].values\n",
    "y = gezichtendata_ongestruc['zwanger'].values\n",
    "\n",
    "#opsplitsen van de test en trainingsdata\n",
    "x_train, x_test, y_train, y_test = train_test_split(X, y, test_size = 0.3)\n",
    "\n",
    "#model trainen op de trainingsdata\n",
    "gbc.fit(x_train, y_train)\n",
    "\n",
    "#Voorspellings waarde van de testdata\n",
    "y_pred = gbc.predict(x_test)"
   ]
  },
  {
   "cell_type": "code",
   "execution_count": 83,
   "metadata": {},
   "outputs": [
    {
     "name": "stdout",
     "output_type": "stream",
     "text": [
      "Accuracy: 0.8666666666666667\n",
      "F1-score: 0.8047619047619048\n"
     ]
    }
   ],
   "source": [
    "#berekenen van de prestatie waarden nauwkeurigheid en F1-score\n",
    "accuracy = accuracy_score(y_test, y_pred)\n",
    "f1 = f1_score(y_test, y_pred, average='weighted')\n",
    "\n",
    "print(\"Accuracy:\", accuracy)\n",
    "print(\"F1-score:\", f1)"
   ]
  },
  {
   "attachments": {},
   "cell_type": "markdown",
   "metadata": {},
   "source": [
    "De nauwkeurigheid van 0,87 en de F1-score van 0,80 laten zien dat het GBM goed presteerd op de ongestructureerde data. Het eerste doel van de mate van interpreteerbaarheid is daarmee behaald. Zoals ook geconcludeerd is bij de gestructureerde data is het model niet interpreteerbaar doordat deze niet begrijpelijk en efficient is."
   ]
  },
  {
   "attachments": {},
   "cell_type": "markdown",
   "metadata": {},
   "source": [
    "**Trainen van het Gradient boosting model voor de semigestructureerde data**"
   ]
  },
  {
   "cell_type": "code",
   "execution_count": 84,
   "metadata": {},
   "outputs": [],
   "source": [
    "#ophalen van de semigestructureerde data\n",
    "gezichtendata_semi = pd.read_csv('gezichten_afbeelding.csv', sep=';')"
   ]
  },
  {
   "cell_type": "code",
   "execution_count": 85,
   "metadata": {},
   "outputs": [],
   "source": [
    "#definieren van de gradient boosting classifier\n",
    "gbc = GradientBoostingClassifier(n_estimators=100, learning_rate=0.1, max_depth=3)\n",
    "\n",
    "#waarde geven aan de variabele (x) en de voorspelwaarde (y)\n",
    "x = gezichtendata_semi[['leeftijd', 'geslacht', 'breedte', 'lengte', 'grootte', 'pixeldichtheid']].values\n",
    "y = gezichtendata_semi['zwanger'].values\n",
    "\n",
    "#opsplitsen van de test en trainingsdata\n",
    "x_train, x_test, y_train, y_test = train_test_split(X, y, test_size = 0.3)\n",
    "\n",
    "#model trainen op de trainingsdata\n",
    "gbc.fit(x_train, y_train)\n",
    "\n",
    "#Voorspellings waarde van de testdata\n",
    "y_pred = gbc.predict(x_test)"
   ]
  },
  {
   "cell_type": "code",
   "execution_count": 86,
   "metadata": {},
   "outputs": [
    {
     "name": "stdout",
     "output_type": "stream",
     "text": [
      "Accuracy: 0.9333333333333333\n",
      "F1-score: 0.9011494252873563\n"
     ]
    }
   ],
   "source": [
    "#berekenen van de prestatie waarden nauwkeurigheid en F1-score\n",
    "accuracy = accuracy_score(y_test, y_pred)\n",
    "f1 = f1_score(y_test, y_pred, average='weighted')\n",
    "\n",
    "print(\"Accuracy:\", accuracy)\n",
    "print(\"F1-score:\", f1)"
   ]
  },
  {
   "attachments": {},
   "cell_type": "markdown",
   "metadata": {},
   "source": [
    "Met een nauwkeurigheid van 0,93 en een F1-score van 0,90 laten zien dat het GBM goed presteert op de semigestructureerde data. Het eerste doel van de mate van interpreteerbaarheid is daarmee behaald. Zoals ook geconcludeerd is bij de gestructureerde en ongestructureerde data is het model niet interpreteerbaar doordat deze niet begrijpelijk en efficiënt is."
   ]
  },
  {
   "attachments": {},
   "cell_type": "markdown",
   "metadata": {},
   "source": [
    "### Conclusie\n",
    "\n",
    "Opvallend aan de resultaten is dat de nauwkeurigheid van de gestructureerde en semigestructureerde data hetzelfde is. Daarnaast presteert de semigestructureerde data ook beter dan de ongestructureerde data. Echter kan er ook geconcludeerd worden aan de hand van de doelen van Rüping et al. (geciteerd in Carvalho et al., 2019) dat het model niet interpreteerbaar is. \n",
    "\n",
    "Uit de resultaten kan geconcludeerd worden dat semigestructureerde data invloed heeft op de interpreteerbaarheid van het model, doordat de nauwkeurigheid van de semigestructureerde datasetsoort gelijk is aan de nauwkeurigheid van de gestructureerde dataset. Door naast het gebruik van semigestructureerde data ook een begrijpelijk en efficiënt model te kiezen, is het model zelf ook interpreteerbaar."
   ]
  }
 ],
 "metadata": {
  "kernelspec": {
   "display_name": "Python 3",
   "language": "python",
   "name": "python3"
  },
  "language_info": {
   "codemirror_mode": {
    "name": "ipython",
    "version": 3
   },
   "file_extension": ".py",
   "mimetype": "text/x-python",
   "name": "python",
   "nbconvert_exporter": "python",
   "pygments_lexer": "ipython3",
   "version": "3.10.6 (tags/v3.10.6:9c7b4bd, Aug  1 2022, 21:53:49) [MSC v.1932 64 bit (AMD64)]"
  },
  "orig_nbformat": 4,
  "vscode": {
   "interpreter": {
    "hash": "c68e55a7d796a8d9234d1acc92a46a4e6065692ae881d76e4da56b8cbbdef29e"
   }
  }
 },
 "nbformat": 4,
 "nbformat_minor": 2
}
